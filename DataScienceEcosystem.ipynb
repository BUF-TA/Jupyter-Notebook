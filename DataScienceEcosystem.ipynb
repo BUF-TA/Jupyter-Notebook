{
 "cells": [
  {
   "cell_type": "markdown",
   "id": "2d91fbe2-bc37-41d3-90ac-fdf02ffe53fd",
   "metadata": {},
   "source": [
    "# Data Science Tools and Ecosystem"
   ]
  },
  {
   "cell_type": "markdown",
   "id": "8427cb09-143a-4ebd-a112-55be98995251",
   "metadata": {},
   "source": [
    "In this notebook, Data Science Tools and Ecosystem are summarized."
   ]
  },
  {
   "cell_type": "markdown",
   "id": "95c74fbc-bd6d-4379-b302-371f6050c9a5",
   "metadata": {},
   "source": [
    "Some of the popular languages that Data Scientists use are:"
   ]
  },
  {
   "cell_type": "markdown",
   "id": "d7fe5fbb-49bc-440d-9348-0c601a2f16b9",
   "metadata": {},
   "source": [
    "- Python\n",
    "- R\n",
    "- SQL"
   ]
  },
  {
   "cell_type": "markdown",
   "id": "58780349-68a1-4c9b-9e76-c7821e59f440",
   "metadata": {},
   "source": [
    "Some of the commonly used libraries used by Data Scientists include:\n",
    "- ggplot: Histograms, bar charts, scatterplots\n",
    "- Plotly: Web-based data visualizations\n",
    "- Lattice: Complex, multi-variable data sets"
   ]
  },
  {
   "cell_type": "markdown",
   "id": "9d54e54d-8c58-47e0-acf9-a3f5ca00730e",
   "metadata": {},
   "source": [
    "Data Science Tools:\n",
    "- MySQL\n",
    "- GitHub\n",
    "- NodeRed"
   ]
  },
  {
   "cell_type": "markdown",
   "id": "f5cd24a7-9c05-46e8-9676-77084aaa5ad9",
   "metadata": {},
   "source": [
    "Below are a few examples of evaluating arithmetic expressions in Python"
   ]
  },
  {
   "cell_type": "code",
   "execution_count": 19,
   "id": "287a58aa-de60-459d-9c72-5719ffe27cc4",
   "metadata": {},
   "outputs": [
    {
     "data": {
      "text/html": [
       "17"
      ],
      "text/latex": [
       "17"
      ],
      "text/markdown": [
       "17"
      ],
      "text/plain": [
       "[1] 17"
      ]
     },
     "metadata": {},
     "output_type": "display_data"
    }
   ],
   "source": [
    "#This a simple arithmetic expression to mutiply then add integers\n",
    "(3*4)+5"
   ]
  },
  {
   "cell_type": "code",
   "execution_count": 16,
   "id": "6731a06a-3e93-42bb-8342-c8cea76e92ad",
   "metadata": {},
   "outputs": [
    {
     "name": "stdout",
     "output_type": "stream",
     "text": [
      "[1] 12000\n"
     ]
    }
   ],
   "source": [
    "#This will convert 200 minutes to hours by diving by 60\n",
    "mi = 200\n",
    "hours = mi * 60\n",
    "print(hours)"
   ]
  },
  {
   "cell_type": "markdown",
   "id": "0ffe721b-1b98-4f7a-bdd0-f052d3d4698d",
   "metadata": {},
   "source": [
    "Objectives:\n",
    "1. Data Visualization\n",
    "2. Data Manipulation with Pandas\n",
    "3. Function Definitions"
   ]
  },
  {
   "cell_type": "markdown",
   "id": "d6001b4a-398a-4a68-a000-22508c60b52e",
   "metadata": {},
   "source": [
    "Author: NGUYEN DINH TUAN ANH"
   ]
  },
  {
   "cell_type": "code",
   "execution_count": null,
   "id": "ecb597c1-0918-454c-9d71-ec93b1517550",
   "metadata": {},
   "outputs": [],
   "source": []
  }
 ],
 "metadata": {
  "kernelspec": {
   "display_name": "R",
   "language": "R",
   "name": "ir"
  },
  "language_info": {
   "codemirror_mode": "r",
   "file_extension": ".r",
   "mimetype": "text/x-r-source",
   "name": "R",
   "pygments_lexer": "r",
   "version": "3.6.1"
  }
 },
 "nbformat": 4,
 "nbformat_minor": 5
}
